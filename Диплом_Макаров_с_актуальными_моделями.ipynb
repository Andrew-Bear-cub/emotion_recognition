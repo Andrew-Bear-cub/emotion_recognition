{
  "nbformat": 4,
  "nbformat_minor": 0,
  "metadata": {
    "colab": {
      "name": "Диплом Макаров с актуальными моделями.ipynb",
      "provenance": [],
      "collapsed_sections": [
        "NuDITqhLVtt-"
      ],
      "include_colab_link": true
    },
    "kernelspec": {
      "name": "python3",
      "display_name": "Python 3"
    },
    "language_info": {
      "name": "python"
    },
    "accelerator": "GPU"
  },
  "cells": [
    {
      "cell_type": "markdown",
      "metadata": {
        "id": "view-in-github",
        "colab_type": "text"
      },
      "source": [
        "<a href=\"https://colab.research.google.com/github/Andrew-Bear-cub/emotion_recognition/blob/master/%D0%94%D0%B8%D0%BF%D0%BB%D0%BE%D0%BC_%D0%9C%D0%B0%D0%BA%D0%B0%D1%80%D0%BE%D0%B2_%D1%81_%D0%B0%D0%BA%D1%82%D1%83%D0%B0%D0%BB%D1%8C%D0%BD%D1%8B%D0%BC%D0%B8_%D0%BC%D0%BE%D0%B4%D0%B5%D0%BB%D1%8F%D0%BC%D0%B8.ipynb\" target=\"_parent\"><img src=\"https://colab.research.google.com/assets/colab-badge.svg\" alt=\"Open In Colab\"/></a>"
      ]
    },
    {
      "cell_type": "markdown",
      "metadata": {
        "id": "NuDITqhLVtt-"
      },
      "source": [
        "#Описание дипломного проекта"
      ]
    },
    {
      "cell_type": "markdown",
      "metadata": {
        "id": "YPzHx2TA47Kf"
      },
      "source": [
        "##Техническое задание на дипломную работу  \n",
        "\n",
        "-Дипломная работа — это соревнование на платформе Kaggle. [Ссылка.](https://www.kaggle.com/c/skillbox-computer-vision-project)\n",
        "\n",
        "-Необходимо написать воспроизводимый код, генерирующий csv-файл с ответами. В нём для каждого изображения с лицом человека должна указываться наиболее вероятная эмоция из представленных. Пример такого файла — на платформе Kaggle (файл *sample_submission.csv*). \n",
        "\n",
        "-Вы можете отправить на валидацию не более пяти решений в день.\n",
        "\n",
        "-Обратите внимание, что на платформе Kaggle существует разбиение отправленного вами файла на public и private части. В задании 50% изображений теста соответствуют публичной части, остальные 50% — приватной. До окончания соревнования результат вашей модели известен только на public-части. Такое разбиение нужно, чтобы модели не переобучались на тесте. \n",
        "\n",
        "-Описание данных, формат файла для ответа и метрику качества вы найдёте в самом соревновании на Kaggle. "
      ]
    },
    {
      "cell_type": "markdown",
      "metadata": {
        "id": "vQKKIMnv5VGg"
      },
      "source": [
        "##Технические требования \n",
        "\n",
        "-Работа требует реализации алгоритма, с помощью которого будет происходить заданная классификация. Приветствуется использование архитектур свёрточных нейронных сетей, разобранных во время теоретических занятий. Время инференса сети на Google Colab не должно превышать 0,33 секунды (3 кадра в секунду)."
      ]
    },
    {
      "cell_type": "markdown",
      "metadata": {
        "id": "I_XVHgrN5hX3"
      },
      "source": [
        "##Улучшения и дополнения к заданию \n",
        "\n",
        "Чтобы выполнить дополнительную просьбу заказчика, попробуйте использовать модель в небольшом прототипе: берите кадры из веб-камеры, прогоняйте их через модель, а в окне камеры выводите результат. \n",
        "\n",
        "Для этого сделайте следующее: \n",
        "\n",
        "1. Разберитесь с работой камеры на вашем ноутбуке через библиотеку opencv. Примеры работы камеры с opencv смотрите в дополнительных материалах к этому заданию.\n",
        "\n",
        "2. Возьмите предобученный детектор лица. Используйте примеры из дополнительных материалов или обучите свой детектор. \n",
        "\n",
        "3. Оберните вашу модель в Python-класс с методами: \n",
        "\n",
        "    a. __init__, в котором будет происходить загрузка весов вашей модели.\n",
        "\n",
        "    b. predict, который будет принимать на вход предобработанный кадр из веб-камеры и возвращать эмоцию.\n",
        "\n",
        "4. Сделайте вывод камеры таким, как показано на рисунке ниже. Расположение и цвета элементов остаются на ваше усмотрение. \n",
        "\n"
      ]
    },
    {
      "cell_type": "markdown",
      "metadata": {
        "id": "Z60705EZVojN"
      },
      "source": [
        "# Решение"
      ]
    },
    {
      "cell_type": "markdown",
      "metadata": {
        "id": "KQUSv9515t01"
      },
      "source": [
        "Для решения задачи распознавания эмоций, Воспользуюсь такими методами, как transfer learning и fine tuning: буду пробовать различные предобученные нейронные сети, и дообучать их последние слои на имеющихся данных, сравнивая результат (Возможно, придется разморозить чуть больше слоев, чем один последний). Для искусственного расширения тестовой выборки будет применена аугментация. Также все изображения будут приведены к единому размеру."
      ]
    },
    {
      "cell_type": "markdown",
      "metadata": {
        "id": "pJfR4blV92vw"
      },
      "source": [
        "##Необходимые импорты и установки"
      ]
    },
    {
      "cell_type": "code",
      "metadata": {
        "id": "GlgW1SqmHdNe"
      },
      "source": [
        "# Чтобы не отвлекаться на варнинги\n",
        "import warnings\n",
        "warnings.filterwarnings('ignore')"
      ],
      "execution_count": null,
      "outputs": []
    },
    {
      "cell_type": "code",
      "metadata": {
        "id": "n1w8homt2-wC"
      },
      "source": [
        "# Придется даунгрейдить некоторые библиотеки чтобы решение работало как надо\n",
        "\n",
        "!pip install git+https://github.com/rcmalli/keras-vggface.git\n",
        "!pip install keras_vggface\n",
        "!pip install keras_applications\n",
        "!pip install livelossplot\n",
        "!pip install q keras==2.2.4"
      ],
      "execution_count": null,
      "outputs": []
    },
    {
      "cell_type": "code",
      "metadata": {
        "id": "PvrPt7vHF5LT"
      },
      "source": [
        "# Без этого не построятся модели дальше\n",
        "!pip install 'h5py==2.10.0' --force-reinstall"
      ],
      "execution_count": null,
      "outputs": []
    },
    {
      "cell_type": "code",
      "metadata": {
        "id": "atUYQQu98Xfa",
        "colab": {
          "base_uri": "https://localhost:8080/"
        },
        "outputId": "de72a919-e4c4-426a-fc09-0ff2557220a0"
      },
      "source": [
        "#импортируем нужные для работы библиотеки\n",
        "%tensorflow_version 1.x\n",
        "import tensorflow as tf\n",
        "import numpy as np\n",
        "import pandas as pd\n",
        "import missingno as msno\n",
        "import matplotlib.pyplot as plt\n",
        "import gdown\n",
        "from keras_vggface.vggface import VGGFace\n",
        "import keras as keras\n",
        "from keras.engine import  Model\n",
        "from keras.layers import Flatten, Dense, Input\n",
        "from keras_vggface.vggface import VGGFace\n",
        "from keras_vggface import utils\n",
        "from livelossplot.tf_keras import PlotLossesCallback\n",
        "from keras.callbacks import ModelCheckpoint\n",
        "from keras.callbacks import CSVLogger\n",
        "from tensorflow.keras.preprocessing import image\n",
        "from tensorflow.keras.preprocessing.image import ImageDataGenerator\n",
        "from sklearn.model_selection import train_test_split\n",
        "from livelossplot.tf_keras import PlotLossesCallback\n",
        "import os \n",
        "from pathlib import Path\n",
        "import glob"
      ],
      "execution_count": null,
      "outputs": [
        {
          "output_type": "stream",
          "name": "stdout",
          "text": [
            "TensorFlow 1.x selected.\n"
          ]
        },
        {
          "output_type": "stream",
          "name": "stderr",
          "text": [
            "Using TensorFlow backend.\n"
          ]
        }
      ]
    },
    {
      "cell_type": "markdown",
      "metadata": {
        "id": "P0lE6tGcrWwV"
      },
      "source": [
        "###Сразу подключим гугл диск"
      ]
    },
    {
      "cell_type": "code",
      "metadata": {
        "id": "-MSBAdXtrY73",
        "colab": {
          "base_uri": "https://localhost:8080/"
        },
        "outputId": "82ae6eb9-6250-4c12-d16e-b522b65c0ee4"
      },
      "source": [
        "from google.colab import drive\n",
        "drive.mount(\"/content/drive\", force_remount=True)"
      ],
      "execution_count": null,
      "outputs": [
        {
          "output_type": "stream",
          "name": "stdout",
          "text": [
            "Mounted at /content/drive\n"
          ]
        }
      ]
    },
    {
      "cell_type": "markdown",
      "metadata": {
        "id": "PJS-Gd3e9xj5"
      },
      "source": [
        "###1.[Работа с kaggle в Collab](https://stackoverflow.com/questions/49310470/using-kaggle-datasets-in-google-colab/50650918#50650918)"
      ]
    },
    {
      "cell_type": "code",
      "metadata": {
        "id": "oaBSjfcv9x9G"
      },
      "source": [
        "# Необходимые установки\n",
        "!pip install -q kaggle\n",
        "!mkdir -p ~/.kaggle\n",
        "!cp /content/drive/MyDrive/SKILLBOX/Machine_learning/Нейросети/Диплом/kaggle.json ~/.kaggle/\n",
        "!chmod 600 ~/.kaggle/kaggle.json"
      ],
      "execution_count": null,
      "outputs": []
    },
    {
      "cell_type": "markdown",
      "metadata": {
        "id": "xPCblB8P6-Mc"
      },
      "source": [
        "##Для начала посмотрим на имеющиеся данные"
      ]
    },
    {
      "cell_type": "code",
      "metadata": {
        "id": "jfTZ7TjI67-w",
        "colab": {
          "base_uri": "https://localhost:8080/"
        },
        "outputId": "df25a46c-de94-423c-8e4b-52c6a475503d"
      },
      "source": [
        "# Скачивание и распаковка\n",
        "!kaggle competitions download -c skillbox-computer-vision-project\n",
        "!unzip train.csv.zip\n",
        "!rm train.csv.zip"
      ],
      "execution_count": null,
      "outputs": [
        {
          "output_type": "stream",
          "name": "stdout",
          "text": [
            "Warning: Looks like you're using an outdated API Version, please consider updating (server 1.5.12 / client 1.5.4)\n",
            "Downloading train.csv.zip to /content\n",
            "  0% 0.00/230k [00:00<?, ?B/s]\n",
            "100% 230k/230k [00:00<00:00, 33.8MB/s]\n",
            "Downloading sample_submission.csv to /content\n",
            "  0% 0.00/86.8k [00:00<?, ?B/s]\n",
            "100% 86.8k/86.8k [00:00<00:00, 90.5MB/s]\n",
            "Archive:  train.csv.zip\n",
            "  inflating: train.csv               \n"
          ]
        }
      ]
    },
    {
      "cell_type": "markdown",
      "metadata": {
        "id": "XhpFKH9fs0yZ"
      },
      "source": [
        "Два файла: в одном описание путей до картинок и метки класса, второй - образец ответа, который надо отправить на кэггл. Сами картинки я предварительно скачал на гугл диск и разархивировал, так что поправлю пути в датафрейме чтобы они ссылались на мой гугл-диск"
      ]
    },
    {
      "cell_type": "code",
      "metadata": {
        "id": "OvOkYDQ2SgVb",
        "colab": {
          "base_uri": "https://localhost:8080/",
          "height": 204
        },
        "outputId": "6a0ba85e-65e7-49a1-dbf4-a088a0fdcf7d"
      },
      "source": [
        "train_df = pd.read_csv('/content/train.csv')\n",
        "train_df.sample(5)"
      ],
      "execution_count": null,
      "outputs": [
        {
          "output_type": "execute_result",
          "data": {
            "text/html": [
              "<div>\n",
              "<style scoped>\n",
              "    .dataframe tbody tr th:only-of-type {\n",
              "        vertical-align: middle;\n",
              "    }\n",
              "\n",
              "    .dataframe tbody tr th {\n",
              "        vertical-align: top;\n",
              "    }\n",
              "\n",
              "    .dataframe thead th {\n",
              "        text-align: right;\n",
              "    }\n",
              "</style>\n",
              "<table border=\"1\" class=\"dataframe\">\n",
              "  <thead>\n",
              "    <tr style=\"text-align: right;\">\n",
              "      <th></th>\n",
              "      <th>Unnamed: 0</th>\n",
              "      <th>image_path</th>\n",
              "      <th>emotion</th>\n",
              "    </tr>\n",
              "  </thead>\n",
              "  <tbody>\n",
              "    <tr>\n",
              "      <th>32300</th>\n",
              "      <td>32300</td>\n",
              "      <td>./train/sad/2117.jpg</td>\n",
              "      <td>sad</td>\n",
              "    </tr>\n",
              "    <tr>\n",
              "      <th>40739</th>\n",
              "      <td>40739</td>\n",
              "      <td>./train/surprise/3647.jpg</td>\n",
              "      <td>surprise</td>\n",
              "    </tr>\n",
              "    <tr>\n",
              "      <th>48358</th>\n",
              "      <td>48358</td>\n",
              "      <td>./train/uncertain/4813.jpg</td>\n",
              "      <td>uncertain</td>\n",
              "    </tr>\n",
              "    <tr>\n",
              "      <th>30792</th>\n",
              "      <td>30792</td>\n",
              "      <td>./train/neutral/761.jpg</td>\n",
              "      <td>neutral</td>\n",
              "    </tr>\n",
              "    <tr>\n",
              "      <th>13035</th>\n",
              "      <td>13035</td>\n",
              "      <td>./train/disgust/795.jpg</td>\n",
              "      <td>disgust</td>\n",
              "    </tr>\n",
              "  </tbody>\n",
              "</table>\n",
              "</div>"
            ],
            "text/plain": [
              "       Unnamed: 0                  image_path    emotion\n",
              "32300       32300        ./train/sad/2117.jpg        sad\n",
              "40739       40739   ./train/surprise/3647.jpg   surprise\n",
              "48358       48358  ./train/uncertain/4813.jpg  uncertain\n",
              "30792       30792     ./train/neutral/761.jpg    neutral\n",
              "13035       13035     ./train/disgust/795.jpg    disgust"
            ]
          },
          "metadata": {},
          "execution_count": 9
        }
      ]
    },
    {
      "cell_type": "code",
      "metadata": {
        "id": "Vn-rrb8VS_Ah",
        "colab": {
          "base_uri": "https://localhost:8080/",
          "height": 204
        },
        "outputId": "4c4bde52-3c70-49fb-ba32-967fc3ec5aae"
      },
      "source": [
        "# Функция которая с помощью конкатенации строк возвращает путь до гугл диска\n",
        "def apply_drive_path(path):\n",
        "    return '/content/drive/MyDrive/SKILLBOX/Machine_learning/Нейросети/Диплом' + path[1:]\n",
        "\n",
        "# Применим написанную выше функцию ко всему столбцу с путями до картинок,\n",
        "# полученный результат сохраним в отдельный столбец\n",
        "train_df['drive_path'] = train_df['image_path'].apply(apply_drive_path)\n",
        "\n",
        "# А также удалим ненужные больше столбцы\n",
        "train_df = train_df[['drive_path', 'emotion']]\n",
        "train_df.sample(5)"
      ],
      "execution_count": null,
      "outputs": [
        {
          "output_type": "execute_result",
          "data": {
            "text/html": [
              "<div>\n",
              "<style scoped>\n",
              "    .dataframe tbody tr th:only-of-type {\n",
              "        vertical-align: middle;\n",
              "    }\n",
              "\n",
              "    .dataframe tbody tr th {\n",
              "        vertical-align: top;\n",
              "    }\n",
              "\n",
              "    .dataframe thead th {\n",
              "        text-align: right;\n",
              "    }\n",
              "</style>\n",
              "<table border=\"1\" class=\"dataframe\">\n",
              "  <thead>\n",
              "    <tr style=\"text-align: right;\">\n",
              "      <th></th>\n",
              "      <th>drive_path</th>\n",
              "      <th>emotion</th>\n",
              "    </tr>\n",
              "  </thead>\n",
              "  <tbody>\n",
              "    <tr>\n",
              "      <th>20405</th>\n",
              "      <td>/content/drive/MyDrive/SKILLBOX/Machine_learni...</td>\n",
              "      <td>happy</td>\n",
              "    </tr>\n",
              "    <tr>\n",
              "      <th>34538</th>\n",
              "      <td>/content/drive/MyDrive/SKILLBOX/Machine_learni...</td>\n",
              "      <td>sad</td>\n",
              "    </tr>\n",
              "    <tr>\n",
              "      <th>34215</th>\n",
              "      <td>/content/drive/MyDrive/SKILLBOX/Machine_learni...</td>\n",
              "      <td>sad</td>\n",
              "    </tr>\n",
              "    <tr>\n",
              "      <th>32774</th>\n",
              "      <td>/content/drive/MyDrive/SKILLBOX/Machine_learni...</td>\n",
              "      <td>sad</td>\n",
              "    </tr>\n",
              "    <tr>\n",
              "      <th>24750</th>\n",
              "      <td>/content/drive/MyDrive/SKILLBOX/Machine_learni...</td>\n",
              "      <td>neutral</td>\n",
              "    </tr>\n",
              "  </tbody>\n",
              "</table>\n",
              "</div>"
            ],
            "text/plain": [
              "                                              drive_path  emotion\n",
              "20405  /content/drive/MyDrive/SKILLBOX/Machine_learni...    happy\n",
              "34538  /content/drive/MyDrive/SKILLBOX/Machine_learni...      sad\n",
              "34215  /content/drive/MyDrive/SKILLBOX/Machine_learni...      sad\n",
              "32774  /content/drive/MyDrive/SKILLBOX/Machine_learni...      sad\n",
              "24750  /content/drive/MyDrive/SKILLBOX/Machine_learni...  neutral"
            ]
          },
          "metadata": {},
          "execution_count": 10
        }
      ]
    },
    {
      "cell_type": "markdown",
      "metadata": {
        "id": "zGlkD9Ww4PUM"
      },
      "source": [
        "##Теперь необходимо разбить наш датасет на тренировочную и валидационную части"
      ]
    },
    {
      "cell_type": "code",
      "metadata": {
        "id": "p3mN-Eml4XYk"
      },
      "source": [
        "X_train, X_valid, y_train, y_valid = train_test_split(train_df['drive_path'], \n",
        "                                                      train_df['emotion'], \n",
        "                                                      test_size=0.33, \n",
        "                                                      random_state=42)"
      ],
      "execution_count": null,
      "outputs": []
    },
    {
      "cell_type": "code",
      "metadata": {
        "id": "IwWUl3ZO_Zap",
        "colab": {
          "base_uri": "https://localhost:8080/",
          "height": 204
        },
        "outputId": "3977d820-2857-47b8-bbb6-959eb70566de"
      },
      "source": [
        "new_train_df = pd.DataFrame(np.vstack((X_train,y_train)).T)\n",
        "new_train_df.columns=['path', 'emotion']\n",
        "new_train_df.sample(5)"
      ],
      "execution_count": null,
      "outputs": [
        {
          "output_type": "execute_result",
          "data": {
            "text/html": [
              "<div>\n",
              "<style scoped>\n",
              "    .dataframe tbody tr th:only-of-type {\n",
              "        vertical-align: middle;\n",
              "    }\n",
              "\n",
              "    .dataframe tbody tr th {\n",
              "        vertical-align: top;\n",
              "    }\n",
              "\n",
              "    .dataframe thead th {\n",
              "        text-align: right;\n",
              "    }\n",
              "</style>\n",
              "<table border=\"1\" class=\"dataframe\">\n",
              "  <thead>\n",
              "    <tr style=\"text-align: right;\">\n",
              "      <th></th>\n",
              "      <th>path</th>\n",
              "      <th>emotion</th>\n",
              "    </tr>\n",
              "  </thead>\n",
              "  <tbody>\n",
              "    <tr>\n",
              "      <th>31814</th>\n",
              "      <td>/content/drive/MyDrive/SKILLBOX/Machine_learni...</td>\n",
              "      <td>anger</td>\n",
              "    </tr>\n",
              "    <tr>\n",
              "      <th>29895</th>\n",
              "      <td>/content/drive/MyDrive/SKILLBOX/Machine_learni...</td>\n",
              "      <td>uncertain</td>\n",
              "    </tr>\n",
              "    <tr>\n",
              "      <th>483</th>\n",
              "      <td>/content/drive/MyDrive/SKILLBOX/Machine_learni...</td>\n",
              "      <td>contempt</td>\n",
              "    </tr>\n",
              "    <tr>\n",
              "      <th>26860</th>\n",
              "      <td>/content/drive/MyDrive/SKILLBOX/Machine_learni...</td>\n",
              "      <td>happy</td>\n",
              "    </tr>\n",
              "    <tr>\n",
              "      <th>16362</th>\n",
              "      <td>/content/drive/MyDrive/SKILLBOX/Machine_learni...</td>\n",
              "      <td>neutral</td>\n",
              "    </tr>\n",
              "  </tbody>\n",
              "</table>\n",
              "</div>"
            ],
            "text/plain": [
              "                                                    path    emotion\n",
              "31814  /content/drive/MyDrive/SKILLBOX/Machine_learni...      anger\n",
              "29895  /content/drive/MyDrive/SKILLBOX/Machine_learni...  uncertain\n",
              "483    /content/drive/MyDrive/SKILLBOX/Machine_learni...   contempt\n",
              "26860  /content/drive/MyDrive/SKILLBOX/Machine_learni...      happy\n",
              "16362  /content/drive/MyDrive/SKILLBOX/Machine_learni...    neutral"
            ]
          },
          "metadata": {},
          "execution_count": 12
        }
      ]
    },
    {
      "cell_type": "code",
      "metadata": {
        "id": "OdJaHR0_C0u9",
        "colab": {
          "base_uri": "https://localhost:8080/",
          "height": 204
        },
        "outputId": "c81b27d7-e006-467f-a0d4-47ba9d6ee924"
      },
      "source": [
        "new_valid_df = pd.DataFrame(np.vstack((X_valid,y_valid)).T)\n",
        "new_valid_df.columns=['path', 'emotion']\n",
        "new_valid_df.sample(5)"
      ],
      "execution_count": null,
      "outputs": [
        {
          "output_type": "execute_result",
          "data": {
            "text/html": [
              "<div>\n",
              "<style scoped>\n",
              "    .dataframe tbody tr th:only-of-type {\n",
              "        vertical-align: middle;\n",
              "    }\n",
              "\n",
              "    .dataframe tbody tr th {\n",
              "        vertical-align: top;\n",
              "    }\n",
              "\n",
              "    .dataframe thead th {\n",
              "        text-align: right;\n",
              "    }\n",
              "</style>\n",
              "<table border=\"1\" class=\"dataframe\">\n",
              "  <thead>\n",
              "    <tr style=\"text-align: right;\">\n",
              "      <th></th>\n",
              "      <th>path</th>\n",
              "      <th>emotion</th>\n",
              "    </tr>\n",
              "  </thead>\n",
              "  <tbody>\n",
              "    <tr>\n",
              "      <th>14546</th>\n",
              "      <td>/content/drive/MyDrive/SKILLBOX/Machine_learni...</td>\n",
              "      <td>surprise</td>\n",
              "    </tr>\n",
              "    <tr>\n",
              "      <th>11830</th>\n",
              "      <td>/content/drive/MyDrive/SKILLBOX/Machine_learni...</td>\n",
              "      <td>fear</td>\n",
              "    </tr>\n",
              "    <tr>\n",
              "      <th>13095</th>\n",
              "      <td>/content/drive/MyDrive/SKILLBOX/Machine_learni...</td>\n",
              "      <td>fear</td>\n",
              "    </tr>\n",
              "    <tr>\n",
              "      <th>5894</th>\n",
              "      <td>/content/drive/MyDrive/SKILLBOX/Machine_learni...</td>\n",
              "      <td>happy</td>\n",
              "    </tr>\n",
              "    <tr>\n",
              "      <th>10150</th>\n",
              "      <td>/content/drive/MyDrive/SKILLBOX/Machine_learni...</td>\n",
              "      <td>happy</td>\n",
              "    </tr>\n",
              "  </tbody>\n",
              "</table>\n",
              "</div>"
            ],
            "text/plain": [
              "                                                    path   emotion\n",
              "14546  /content/drive/MyDrive/SKILLBOX/Machine_learni...  surprise\n",
              "11830  /content/drive/MyDrive/SKILLBOX/Machine_learni...      fear\n",
              "13095  /content/drive/MyDrive/SKILLBOX/Machine_learni...      fear\n",
              "5894   /content/drive/MyDrive/SKILLBOX/Machine_learni...     happy\n",
              "10150  /content/drive/MyDrive/SKILLBOX/Machine_learni...     happy"
            ]
          },
          "metadata": {},
          "execution_count": 13
        }
      ]
    },
    {
      "cell_type": "code",
      "metadata": {
        "id": "LIIYII3t6tmw"
      },
      "source": [
        "# Сразу определим размер батча и размер, к которому будем приводить изображения\n",
        "BATCH_SIZE = 128\n",
        "IMG_SHAPE  = 224 "
      ],
      "execution_count": null,
      "outputs": []
    },
    {
      "cell_type": "markdown",
      "metadata": {
        "id": "2wgzEYWp2_Lk"
      },
      "source": [
        "Полез в гугл искать готовые решения в области классификации эмоций. Наткнулся на [это](https://github.com/rcmalli/keras-vggface): "
      ]
    },
    {
      "cell_type": "code",
      "metadata": {
        "colab": {
          "base_uri": "https://localhost:8080/"
        },
        "id": "VLmlb6es5PFT",
        "outputId": "bcd34ae0-f5e1-4fff-abd1-552534af73f6"
      },
      "source": [
        "#Загрузим модели\n",
        "from keras.engine import  Model\n",
        "from keras.layers import Flatten, Dense, Input\n",
        "from keras_vggface.vggface import VGGFace\n",
        "\n",
        "resnet50_model = VGGFace(model='resnet50',                      #Модель resnet50                          \n",
        "                         include_top=False,                     #Не берем выходной слой, у нас будет свой\n",
        "                         input_shape=(IMG_SHAPE, IMG_SHAPE, 3)) #Размер картинки\n",
        "\n",
        "senet50_model = VGGFace(model='senet50',                        #Модель senet50 \n",
        "                        include_top=False,                      #Аналогично предыдущей\n",
        "                        input_shape=(IMG_SHAPE, IMG_SHAPE, 3))\n",
        "\n",
        "\n",
        "print(\"Количество слоев в модели resnet50:\", len(resnet50_model.layers))\n",
        "print(\"Количество слоев в модели senet50:\", len(senet50_model.layers))"
      ],
      "execution_count": null,
      "outputs": [
        {
          "output_type": "stream",
          "name": "stdout",
          "text": [
            "Количество слоев в модели resnet50: 174\n",
            "Количество слоев в модели senet50: 286\n"
          ]
        }
      ]
    },
    {
      "cell_type": "code",
      "metadata": {
        "id": "yg42bksm6G-W"
      },
      "source": [
        "# Напишем функцию для обработки картинки и приведению к формату vggface:\n",
        "# функция на вход принимает тензор размером (1, H, W, 3)  и возвращает картинку,\n",
        "# с примененным preprocess_input(..., version=2) из keras_vggface. \n",
        "# version=2 из документации, т.к. используем модели resnet и senet.\n",
        "    \n",
        "def preprocess_input_facenet(image_):\n",
        "    return utils.preprocess_input(image_, version=2)"
      ],
      "execution_count": null,
      "outputs": []
    },
    {
      "cell_type": "code",
      "metadata": {
        "id": "oU3oxH5Mtkw-"
      },
      "source": [
        "# генератор картинок с аугментацией для тренировочной части\n",
        "\n",
        "image_gen_aug = ImageDataGenerator(\n",
        "      preprocessing_function=preprocess_input_facenet,\n",
        "      rescale=1./255,\n",
        "      rotation_range=40,        # максимальный угол поворота\n",
        "      width_shift_range=0.2,    # смещение максимум на 20% ширины по горизонтали\n",
        "      height_shift_range=0.2,   # смещение максимум на 20% высоты по вертикали\n",
        "      zoom_range=0.2,           # картинка будет увеличена или уменьшена не более чем на 20% \n",
        "      horizontal_flip=True,     # случайное отражение по горизонтали\n",
        "      fill_mode=\"nearest\",      # чем заполнять пробелы - такие же, как ближайшие пиксели\n",
        "      )\n"
      ],
      "execution_count": null,
      "outputs": []
    },
    {
      "cell_type": "code",
      "metadata": {
        "id": "G6bnP5F0wukk"
      },
      "source": [
        "# генератор картинок без аугментации для валидационной части\n",
        "image_gen = ImageDataGenerator(\n",
        "    preprocessing_function=preprocess_input_facenet)"
      ],
      "execution_count": null,
      "outputs": []
    },
    {
      "cell_type": "markdown",
      "metadata": {
        "id": "Gjj4NV_J5L7j"
      },
      "source": [
        "Тренировочная часть"
      ]
    },
    {
      "cell_type": "code",
      "metadata": {
        "colab": {
          "base_uri": "https://localhost:8080/"
        },
        "id": "Tob7LxCM6Ybu",
        "outputId": "4a82e0df-3819-4094-e215-a5768c34f2cb"
      },
      "source": [
        "train_augmented_data_generator = image_gen_aug.flow_from_dataframe(batch_size=BATCH_SIZE,               #Размер батча\n",
        "                                                                   dataframe=new_train_df,              #Исходный датафрейм\n",
        "                                                                   directory=None,                      #Папки нет, поэтому None\n",
        "                                                                   x_col='path',                        #Столбец в датафрейме откуда берем х\n",
        "                                                                   y_col='emotion',                     #Столбец в датафрейме откуда берем у\n",
        "                                                                   shuffle=True,                        #Перемешать картинки после каждого батча\n",
        "                                                                   target_size=(IMG_SHAPE,IMG_SHAPE),   #Размер картинок, которые подаем на вход модели\n",
        "                                                                   class_mode='categorical')            #Метки классов - в данном случае категориальные"
      ],
      "execution_count": null,
      "outputs": [
        {
          "output_type": "stream",
          "name": "stdout",
          "text": [
            "Found 33530 validated image filenames belonging to 9 classes.\n"
          ]
        }
      ]
    },
    {
      "cell_type": "markdown",
      "metadata": {
        "id": "LBvnk-ts6dF7"
      },
      "source": [
        "Валидационная часть"
      ]
    },
    {
      "cell_type": "code",
      "metadata": {
        "colab": {
          "base_uri": "https://localhost:8080/"
        },
        "id": "u8N6g9tp6e_o",
        "outputId": "7fe4f64c-e606-44c8-f825-06f7a125f755"
      },
      "source": [
        "valid_data_generator = image_gen.flow_from_dataframe(batch_size=BATCH_SIZE,                             #Аналогично ячейке выше\n",
        "                                                               dataframe=new_valid_df,\n",
        "                                                               directory=None,\n",
        "                                                               x_col='path',\n",
        "                                                               y_col='emotion',\n",
        "                                                               shuffle=False,\n",
        "                                                               target_size=(IMG_SHAPE,IMG_SHAPE),\n",
        "                                                               class_mode='categorical')"
      ],
      "execution_count": null,
      "outputs": [
        {
          "output_type": "stream",
          "name": "stdout",
          "text": [
            "Found 16516 validated image filenames belonging to 9 classes.\n"
          ]
        }
      ]
    },
    {
      "cell_type": "markdown",
      "metadata": {
        "id": "9zcUkIV4Amhw"
      },
      "source": [
        "##Сначала опробуем архитектуру Resnet50"
      ]
    },
    {
      "cell_type": "code",
      "metadata": {
        "id": "jaGwUdbB8Q_7"
      },
      "source": [
        "fine_tune_at = 100     #все слои до - заморозим\n",
        "for layer in resnet50_model.layers[:fine_tune_at]:\n",
        "    layer.trainable = False\n",
        "\n",
        "last_layer = resnet50_model.get_layer('avg_pool').output\n",
        "x = Flatten(name='flatten')(last_layer)\n",
        "x = Dense(512, activation='relu', name='fc1')(x)\n",
        "x = Dense(256, activation='relu', name='fc2')(x)\n",
        "x = Dense(128, activation='relu', name='fc3')(x)\n",
        "out = Dense(9, activation='softmax', name='classifier')(x)\n",
        "first_model = Model(resnet50_model.input, out)\n",
        "\n",
        "first_model.compile(optimizer=keras.optimizers.Adam(1e-4),\n",
        "              loss='categorical_crossentropy',\n",
        "              metrics=['categorical_accuracy'])"
      ],
      "execution_count": null,
      "outputs": []
    },
    {
      "cell_type": "code",
      "metadata": {
        "id": "vX0GqQElCIsy"
      },
      "source": [
        "# Будем сохранять лучшие результаты по ходу обучения модели, для ее последующей \n",
        "# загрузки и на случай если коллаб отвалится в процессе обучения.\n",
        "path = Path(\"/content/drive/MyDrive/SKILLBOX/Machine_learning/Нейросети/Диплом/\")\n",
        "path.mkdir(exist_ok=True)\n",
        "checkpoint_filename = \"ResNet50_checkpoint_best.hdf5\"\n",
        "checkpoint_path = str(path / checkpoint_filename)\n",
        "checkpoint = ModelCheckpoint(checkpoint_path, \n",
        "                             monitor='val_categorical_accuracy', \n",
        "                             verbose=1, \n",
        "                             save_best_only=True, \n",
        "                             mode='max')\n",
        "\n",
        "# Также будем логировать весь процесс обучения, чтобы видеть, на скольки эпохах \n",
        "# уже обучается модель и какие были промежуточные результаты\n",
        "logdir = Path(\"/content/drive/MyDrive/SKILLBOX/Machine_learning/Нейросети/Диплом/\")"
      ],
      "execution_count": null,
      "outputs": []
    },
    {
      "cell_type": "code",
      "metadata": {
        "id": "6p7D0hiPCfjW",
        "colab": {
          "base_uri": "https://localhost:8080/"
        },
        "outputId": "eb97ca47-5a3e-4c98-c45b-8cedab5abff3"
      },
      "source": [
        "# Так как коллаб постоянно отваливается, обучу модель одну эпоху а потом буду \n",
        "#грузить модель и продолжать обучение\n",
        "# Первый запуск, запускается единожды.\n",
        "\n",
        "start = True  #Поменять на True, чтобы код выполнился, False - пропустить ячейку\n",
        "\n",
        "if start:\n",
        "    print('Не найден чекпоинт. Начинаем обучение заново.')\n",
        "    EPOCHS = 1\n",
        "    history = first_model.fit(train_augmented_data_generator,\n",
        "                              validation_data=valid_data_generator,\n",
        "                              epochs=EPOCHS,\n",
        "                              steps_per_epoch=24,\n",
        "                              validation_steps=24,\n",
        "                              callbacks=[checkpoint])"
      ],
      "execution_count": null,
      "outputs": [
        {
          "output_type": "stream",
          "name": "stdout",
          "text": [
            "Не найден чекпоинт. Начинаем обучение заново.\n",
            "WARNING:tensorflow:From /tensorflow-1.15.2/python3.7/keras/backend/tensorflow_backend.py:422: The name tf.global_variables is deprecated. Please use tf.compat.v1.global_variables instead.\n",
            "\n",
            "Epoch 1/1\n",
            "24/24 [==============================] - 806s 34s/step - loss: 2.1679 - categorical_accuracy: 0.2217 - val_loss: 1.9887 - val_categorical_accuracy: 0.2878\n",
            "\n",
            "Epoch 00001: val_categorical_accuracy improved from -inf to 0.28776, saving model to /content/drive/MyDrive/SKILLBOX/Machine_learning/Нейросети/Диплом/ResNet50_checkpoint_best.hdf5\n"
          ]
        }
      ]
    },
    {
      "cell_type": "code",
      "metadata": {
        "id": "wGUtsRPykITG",
        "colab": {
          "base_uri": "https://localhost:8080/",
          "height": 745
        },
        "outputId": "4166f49c-bde0-4f96-9591-83af221ff43d"
      },
      "source": [
        "# Все дальнейшее обучение идет здесь. Пары прогонов достаточно чтобы набрать\n",
        "# проходной балл, дальше модель уже начинает переобучаться\n",
        "first_model = tf.keras.models.load_model(checkpoint_path)\n",
        "print('Найден чекпоинт. Продолжаем обучение.')\n",
        "EPOCHS = 15\n",
        "history = first_model.fit(\n",
        "train_augmented_data_generator,\n",
        "validation_data=valid_data_generator,\n",
        "epochs=EPOCHS,\n",
        "steps_per_epoch=24,\n",
        "validation_steps=24,\n",
        "callbacks=[PlotLossesCallback(), \n",
        "           CSVLogger(logdir / \"ResNet50_history.csv\", append=True),\n",
        "           checkpoint])"
      ],
      "execution_count": null,
      "outputs": [
        {
          "output_type": "display_data",
          "data": {
            "image/png": "[encoded data removed]",
            "text/plain": [
              "<Figure size 864x576 with 2 Axes>"
            ]
          },
          "metadata": {
            "needs_background": "light"
          }
        },
        {
          "output_type": "stream",
          "name": "stdout",
          "text": [
            "categorical_accuracy\n",
            "\ttraining         \t (min:    0.392, max:    0.522, cur:    0.506)\n",
            "\tvalidation       \t (min:    0.365, max:    0.521, cur:    0.496)\n",
            "Loss\n",
            "\ttraining         \t (min:    1.347, max:    1.717, cur:    1.365)\n",
            "\tvalidation       \t (min:    1.365, max:    1.840, cur:    1.414)\n",
            "\n",
            "Epoch 00015: val_categorical_accuracy did not improve from 0.52083\n",
            "\b\b\b\b\b\b\b\b\b\b\b\b\b\b\b\b\b\b\b\b\b\b\b\b\b\b\b\b\b\b\b\b\b\b\b\b\b\b\b\b\b\b\b\b\b\b\b\b\b\b\b\b\b\b\b\b\b\b\b\b\b\b\b\b\b\b\b\b\b\b\b\b\b\b\b\b\b\b\b\b\b\b\b\b\b\b\b\b\b\b\b\b\b\b\r24/24 [==============================] - 97s 4s/step - loss: 1.3654 - categorical_accuracy: 0.5062 - val_loss: 1.4140 - val_categorical_accuracy: 0.4964\n"
          ]
        }
      ]
    },
    {
      "cell_type": "code",
      "metadata": {
        "id": "n2b-9S5XB098"
      },
      "source": [
        "#загрузим обученную модель\n",
        "model_load = tf.keras.models.load_model(checkpoint_path)"
      ],
      "execution_count": null,
      "outputs": []
    },
    {
      "cell_type": "code",
      "metadata": {
        "colab": {
          "base_uri": "https://localhost:8080/"
        },
        "id": "QA557CrsKNGt",
        "outputId": "e5375fbf-d0aa-4ded-8203-57c0254b184d"
      },
      "source": [
        "#Модель возвращает цифровое значение класса, а нам нужно название. Соберем словарь соответствия номера названию из генератора\n",
        "answers = {}\n",
        "for (key, value) in valid_data_generator.class_indices.items():\n",
        "    answers.update({value:key})\n",
        "\n",
        "answers"
      ],
      "execution_count": null,
      "outputs": [
        {
          "output_type": "execute_result",
          "data": {
            "text/plain": [
              "{0: 'anger',\n",
              " 1: 'contempt',\n",
              " 2: 'disgust',\n",
              " 3: 'fear',\n",
              " 4: 'happy',\n",
              " 5: 'neutral',\n",
              " 6: 'sad',\n",
              " 7: 'surprise',\n",
              " 8: 'uncertain'}"
            ]
          },
          "metadata": {},
          "execution_count": 25
        }
      ]
    },
    {
      "cell_type": "code",
      "metadata": {
        "id": "lxsOwQAhEMW5"
      },
      "source": [
        "#Функция для создания предсказаний. Поучает на вход картинку, преобразует ее, чтобы подать на вход модели, возвращает предсказанный класс\n",
        "\n",
        "def for_kaggle(img_path, model):\n",
        "    #На вход нужна картинка размера 224х224, с гугл диска\n",
        "    x = image.load_img(\"/content/drive/MyDrive/SKILLBOX/Machine_learning/Нейросети/Диплом/test_kaggle/\"+ img_path, target_size=(IMG_SHAPE, IMG_SHAPE)) \n",
        "    #Переводим картинку в массив и разворачиваем его\n",
        "    x = np.expand_dims(image.img_to_array(x), axis=0)\n",
        "    #Предобрпбатывамем картинку, веса resnet50 - поэтому вторая версия  \n",
        "    x = utils.preprocess_input(x, version=2)\n",
        "    #Возвращаем текстовое описание метки класса, предсказанной с наивысшей вероятностью \n",
        "    return answers[np.argmax(model.predict(x))] "
      ],
      "execution_count": null,
      "outputs": []
    },
    {
      "cell_type": "markdown",
      "metadata": {
        "id": "BX6XjrYQNw-o"
      },
      "source": [
        "Проверим время инференса\n"
      ]
    },
    {
      "cell_type": "code",
      "metadata": {
        "colab": {
          "base_uri": "https://localhost:8080/"
        },
        "id": "UrnPhJMEH-fr",
        "outputId": "caaa43d7-0973-4c9c-b246-01445986511c"
      },
      "source": [
        "%%time\n",
        "for_kaggle(\"0.jpg\", model_load)\n",
        "for_kaggle(\"1.jpg\", model_load)\n",
        "for_kaggle(\"2.jpg\", model_load)"
      ],
      "execution_count": null,
      "outputs": [
        {
          "output_type": "stream",
          "name": "stdout",
          "text": [
            "CPU times: user 135 ms, sys: 7.14 ms, total: 142 ms\n",
            "Wall time: 140 ms\n"
          ]
        }
      ]
    },
    {
      "cell_type": "markdown",
      "metadata": {
        "id": "R1ncHtSaKNpW"
      },
      "source": [
        "По времени инференса пролезли, даже с запасом :)"
      ]
    },
    {
      "cell_type": "code",
      "metadata": {
        "colab": {
          "base_uri": "https://localhost:8080/",
          "height": 204
        },
        "id": "7ExnpqH4N-02",
        "outputId": "b7b32240-3bd1-49a7-830c-08d51f914d7a"
      },
      "source": [
        "#Теперь сформируем файл с предсказаниями, которые нужно будет отправить на кеггл.\n",
        "\n",
        "#Путь до картинок, для которых необходимо выполнить предсказание эмоций\n",
        "path_to_predict = '/content/drive/MyDrive/SKILLBOX/Machine_learning/Нейросети/Диплом/test_kaggle/' \n",
        "#Пустой датафрейм, куда будем добавлять пути до картинок и соответвтующие им предсказания эмоций\n",
        "results_frame = pd.DataFrame(columns=['image_path', 'emotion']) \n",
        "\n",
        "#Проходимся по всему списку названий картинок в целевой папке\n",
        "for picture in os.listdir(path_to_predict):\n",
        "    #Предсказываем эмоцию                                             \n",
        "    emotion = for_kaggle(picture, model_load)\n",
        "    #Добавляем пару \"путь до карнитнки - эмоция\" в датафрейм\n",
        "    results_frame = results_frame.append({'image_path':picture, 'emotion':emotion}, ignore_index=True)         \n",
        "\n",
        "results_frame.sample(5)"
      ],
      "execution_count": null,
      "outputs": [
        {
          "output_type": "execute_result",
          "data": {
            "text/html": [
              "<div>\n",
              "<style scoped>\n",
              "    .dataframe tbody tr th:only-of-type {\n",
              "        vertical-align: middle;\n",
              "    }\n",
              "\n",
              "    .dataframe tbody tr th {\n",
              "        vertical-align: top;\n",
              "    }\n",
              "\n",
              "    .dataframe thead th {\n",
              "        text-align: right;\n",
              "    }\n",
              "</style>\n",
              "<table border=\"1\" class=\"dataframe\">\n",
              "  <thead>\n",
              "    <tr style=\"text-align: right;\">\n",
              "      <th></th>\n",
              "      <th>image_path</th>\n",
              "      <th>emotion</th>\n",
              "    </tr>\n",
              "  </thead>\n",
              "  <tbody>\n",
              "    <tr>\n",
              "      <th>4853</th>\n",
              "      <td>1766.jpg</td>\n",
              "      <td>fear</td>\n",
              "    </tr>\n",
              "    <tr>\n",
              "      <th>1666</th>\n",
              "      <td>4298.jpg</td>\n",
              "      <td>anger</td>\n",
              "    </tr>\n",
              "    <tr>\n",
              "      <th>3776</th>\n",
              "      <td>2597.jpg</td>\n",
              "      <td>neutral</td>\n",
              "    </tr>\n",
              "    <tr>\n",
              "      <th>2225</th>\n",
              "      <td>300.jpg</td>\n",
              "      <td>fear</td>\n",
              "    </tr>\n",
              "    <tr>\n",
              "      <th>2815</th>\n",
              "      <td>3531.jpg</td>\n",
              "      <td>fear</td>\n",
              "    </tr>\n",
              "  </tbody>\n",
              "</table>\n",
              "</div>"
            ],
            "text/plain": [
              "     image_path  emotion\n",
              "4853   1766.jpg     fear\n",
              "1666   4298.jpg    anger\n",
              "3776   2597.jpg  neutral\n",
              "2225    300.jpg     fear\n",
              "2815   3531.jpg     fear"
            ]
          },
          "metadata": {},
          "execution_count": 31
        }
      ]
    },
    {
      "cell_type": "code",
      "metadata": {
        "id": "Mhw6aW-KSNJI"
      },
      "source": [
        "#выгружаем датасет в csv для отправки на платформу kaggle\n",
        "results_frame.to_csv('/content/drive/MyDrive/SKILLBOX/Machine_learning/Нейросети/Диплом/resnet50_submission.csv',index=False)"
      ],
      "execution_count": null,
      "outputs": []
    },
    {
      "cell_type": "code",
      "metadata": {
        "id": "AaVUugbdFW-1"
      },
      "source": [
        "!cd /content/drive/MyDrive/SKILLBOX/Machine_learning/Нейросети/Диплом/\n",
        "!cp /content/drive/MyDrive/SKILLBOX/Machine_learning/Нейросети/Диплом/resnet50_submission.csv /content/resnet50_submission.csv"
      ],
      "execution_count": null,
      "outputs": []
    },
    {
      "cell_type": "code",
      "metadata": {
        "id": "Sc45vR0_ix7h",
        "colab": {
          "base_uri": "https://localhost:8080/"
        },
        "outputId": "161813f2-013f-4678-e0a3-a4c3c3f79c53"
      },
      "source": [
        "#Отправляем результат. Будут ошибки кодировки, но все нормально отправляется :)\n",
        "!cd /content/\n",
        "!kaggle competitions submit -c skillbox-computer-vision-project -f resnet50_submission.csv -m \"Yet another attempt. vggface, resnet50, with augmentation\""
      ],
      "execution_count": null,
      "outputs": [
        {
          "output_type": "stream",
          "name": "stdout",
          "text": [
            "Warning: Looks like you're using an outdated API Version, please consider updating (server 1.5.12 / client 1.5.4)\n",
            "100% 78.0k/78.0k [00:01<00:00, 68.5kB/s]\n",
            "Traceback (most recent call last):\n",
            "  File \"/usr/local/bin/kaggle\", line 8, in <module>\n",
            "    sys.exit(main())\n",
            "  File \"/usr/local/lib/python2.7/dist-packages/kaggle/cli.py\", line 64, in main\n",
            "    print(out, end='')\n",
            "UnicodeEncodeError: 'latin-1' codec can't encode characters in position 36-44: ordinal not in range(256)\n"
          ]
        }
      ]
    },
    {
      "cell_type": "markdown",
      "metadata": {
        "id": "Rt5E-J0-Awgu"
      },
      "source": [
        "По метрике пролез в зачет :)\n",
        "![image.png](data:image/png;base64,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)\n"
      ]
    },
    {
      "cell_type": "markdown",
      "metadata": {
        "id": "424UON83jNRB"
      },
      "source": [
        "##Теперь попробуем архитектуру seNet оттуда же"
      ]
    },
    {
      "cell_type": "code",
      "metadata": {
        "id": "u4GZySvEjXpJ"
      },
      "source": [
        "fine_tune_at = 200\n",
        "\n",
        "# все слои до - заморозим\n",
        "for layer in senet50_model.layers[:fine_tune_at]:\n",
        "    layer.trainable = False\n",
        "\n",
        "last_layer = senet50_model.get_layer('avg_pool').output\n",
        "x = Flatten(name='flatten')(last_layer)\n",
        "x = Dense(1024, activation='relu', name='fc1')(x)\n",
        "x = Dense(512, activation='relu', name='fc2')(x)\n",
        "x = Dense(256, activation='relu', name='fc3')(x)\n",
        "out = Dense(9, activation='softmax', name='classifier')(x)\n",
        "second_model = Model(senet50_model.input, out)\n",
        "\n",
        "second_model.compile(optimizer=keras.optimizers.Adam(learning_rate=1e-4),\n",
        "              loss='categorical_crossentropy',\n",
        "              metrics=['categorical_accuracy'])"
      ],
      "execution_count": null,
      "outputs": []
    },
    {
      "cell_type": "code",
      "metadata": {
        "id": "oMFHC8TVk5MD"
      },
      "source": [
        "# Будем сохранять лучшие результаты по ходу обучения модели, для ее последующей \n",
        "# загрузки и на случай если коллаб отвалится в процессе обучения.\n",
        "path = Path(\"/content/drive/MyDrive/SKILLBOX/Machine_learning/Нейросети/Диплом/\")\n",
        "path.mkdir(exist_ok=True)\n",
        "checkpoint_filename = \"SeNet50_checkpoint_best.hdf5\"\n",
        "checkpoint_path = str(path / checkpoint_filename)\n",
        "checkpoint = ModelCheckpoint(checkpoint_path, \n",
        "                             monitor='val_categorical_accuracy', \n",
        "                             verbose=1, \n",
        "                             save_best_only=True, \n",
        "                             mode='max')\n",
        "\n",
        "# Также будем логировать весь процесс обучения, чтобы видеть, на скольки эпохах \n",
        "# уже обучается модель и какие были промежуточные результаты\n",
        "logdir = Path(\"/content/drive/MyDrive/SKILLBOX/Machine_learning/Нейросети/Диплом/\")"
      ],
      "execution_count": null,
      "outputs": []
    },
    {
      "cell_type": "code",
      "metadata": {
        "colab": {
          "base_uri": "https://localhost:8080/"
        },
        "id": "KIlnlquqT8nx",
        "outputId": "a1c8d40c-731f-4edd-aba0-0aca7ca8ed41"
      },
      "source": [
        "# Так как коллаб постоянно отваливается, обучу модель одну эпоху а потом буду \n",
        "#грузить модель и продолжать обучение\n",
        "# Первый запуск, запускается единожды.\n",
        "\n",
        "start = True  #Поменять на True, чтобы код выполнился, False - пропустить ячейку\n",
        "\n",
        "if start:\n",
        "    print('Не найден чекпоинт. Начинаем обучение заново.')\n",
        "    EPOCHS = 1\n",
        "    history = second_model.fit(train_augmented_data_generator,\n",
        "                              validation_data=valid_data_generator,\n",
        "                              epochs=EPOCHS,\n",
        "                              steps_per_epoch=24,\n",
        "                              validation_steps=24,\n",
        "                              callbacks=[checkpoint])"
      ],
      "execution_count": null,
      "outputs": [
        {
          "output_type": "stream",
          "name": "stdout",
          "text": [
            "Не найден чекпоинт. Начинаем обучение заново.\n",
            "Epoch 1/1\n",
            "24/24 [==============================] - 107s 4s/step - loss: 1.9392 - categorical_accuracy: 0.2900 - val_loss: 2.6047 - val_categorical_accuracy: 0.2116\n",
            "\n",
            "Epoch 00001: val_categorical_accuracy improved from -inf to 0.21159, saving model to /content/drive/MyDrive/SKILLBOX/Machine_learning/Нейросети/Диплом/SeNet50_checkpoint_best.hdf5\n"
          ]
        }
      ]
    },
    {
      "cell_type": "code",
      "metadata": {
        "colab": {
          "base_uri": "https://localhost:8080/",
          "height": 745
        },
        "id": "01PjhemGk_EY",
        "outputId": "d4f79dfd-7de0-4707-8dc1-da862192123b"
      },
      "source": [
        "# Все дальнейшее обучение идет здесь. Пары прогонов достаточно чтобы набрать\n",
        "# проходной балл, дальше модель уже начинает переобучаться\n",
        "second_model = tf.keras.models.load_model(checkpoint_path)\n",
        "print('Найден чекпоинт. Продолжаем обучение.')\n",
        "EPOCHS = 15\n",
        "history = second_model.fit(train_augmented_data_generator,\n",
        "                           validation_data=valid_data_generator,\n",
        "                           epochs=EPOCHS,\n",
        "                           steps_per_epoch=24,\n",
        "                           validation_steps=24,\n",
        "                           callbacks=[PlotLossesCallback(), \n",
        "                                      CSVLogger(logdir / \"SeNet50_history.csv\", append=True),\n",
        "                                      checkpoint])"
      ],
      "execution_count": null,
      "outputs": [
        {
          "output_type": "display_data",
          "data": {
            "image/png": "[encoded data removed]",
            "text/plain": [
              "<Figure size 864x576 with 2 Axes>"
            ]
          },
          "metadata": {
            "needs_background": "light"
          }
        },
        {
          "output_type": "stream",
          "name": "stdout",
          "text": [
            "categorical_accuracy\n",
            "\ttraining         \t (min:    0.398, max:    0.493, cur:    0.482)\n",
            "\tvalidation       \t (min:    0.233, max:    0.461, cur:    0.455)\n",
            "Loss\n",
            "\ttraining         \t (min:    1.419, max:    1.688, cur:    1.432)\n",
            "\tvalidation       \t (min:    1.563, max:    2.793, cur:    1.563)\n",
            "\n",
            "Epoch 00015: val_categorical_accuracy did not improve from 0.46094\n",
            "\b\b\b\b\b\b\b\b\b\b\b\b\b\b\b\b\b\b\b\b\b\b\b\b\b\b\b\b\b\b\b\b\b\b\b\b\b\b\b\b\b\b\b\b\b\b\b\b\b\b\b\b\b\b\b\b\b\b\b\b\b\b\b\b\b\b\b\b\b\b\b\b\b\b\b\b\b\b\b\b\b\b\b\b\b\b\b\b\b\b\b\b\b\b\r24/24 [==============================] - 88s 4s/step - loss: 1.4322 - categorical_accuracy: 0.4821 - val_loss: 1.5632 - val_categorical_accuracy: 0.4548\n"
          ]
        }
      ]
    },
    {
      "cell_type": "markdown",
      "metadata": {
        "id": "rwD9RufsBO1P"
      },
      "source": [
        "Загрузим модель с чекпоинта"
      ]
    },
    {
      "cell_type": "code",
      "metadata": {
        "id": "eI6RmxgpA_Hd"
      },
      "source": [
        "loaded_senet50_model = tf.keras.models.load_model(checkpoint_path)"
      ],
      "execution_count": null,
      "outputs": []
    },
    {
      "cell_type": "markdown",
      "metadata": {
        "id": "tLqPyyweBTr1"
      },
      "source": [
        "Посмотрим на время инференса"
      ]
    },
    {
      "cell_type": "code",
      "metadata": {
        "colab": {
          "base_uri": "https://localhost:8080/"
        },
        "id": "FAH7_3TXBI0R",
        "outputId": "2a21c141-3f31-44ba-996f-2c7947d0dec7"
      },
      "source": [
        "%%time\n",
        "for_kaggle(\"0.jpg\", loaded_senet50_model)\n",
        "for_kaggle(\"1.jpg\", loaded_senet50_model)\n",
        "for_kaggle(\"2.jpg\", loaded_senet50_model)"
      ],
      "execution_count": null,
      "outputs": [
        {
          "output_type": "stream",
          "name": "stdout",
          "text": [
            "CPU times: user 184 ms, sys: 6.71 ms, total: 191 ms\n",
            "Wall time: 183 ms\n"
          ]
        }
      ]
    },
    {
      "cell_type": "markdown",
      "metadata": {
        "id": "wuVYR52vBZbO"
      },
      "source": [
        "По времени инференса пролезаем с запасом."
      ]
    },
    {
      "cell_type": "code",
      "metadata": {
        "id": "0EjAaNqRBcEu",
        "colab": {
          "base_uri": "https://localhost:8080/",
          "height": 204
        },
        "outputId": "8ffffa33-f3d0-48cb-f589-8935fd44977d"
      },
      "source": [
        "#Теперь сформируем файл с предсказаниями, которые нужно будет отправить на кеггл.\n",
        "\n",
        "path_to_predict = '/content/drive/MyDrive/SKILLBOX/Machine_learning/Нейросети/Диплом/test_kaggle/' #Путь до картинок, для которых необходимо выполнить предсказание эмоций\n",
        "results_frame = pd.DataFrame(columns=['image_path', 'emotion']) #Пустой датафрейм, куда будем добавлять пути до картинок и соответвтующие им предсказания эмоций\n",
        "\n",
        "for picture in os.listdir(path_to_predict):                                             #Проходимся по всему списку названий картинок в целевой папке\n",
        "    emotion = for_kaggle(picture, loaded_senet50_model)                                           #Предсказываем эмоцию\n",
        "    results_frame = results_frame.append({'image_path':picture, 'emotion':emotion}, ignore_index=True)         #Добавляем пару \"путь до карнитнки - эмоция\" в датафрейм\n",
        "\n",
        "results_frame.sample(5)"
      ],
      "execution_count": null,
      "outputs": [
        {
          "output_type": "execute_result",
          "data": {
            "text/html": [
              "<div>\n",
              "<style scoped>\n",
              "    .dataframe tbody tr th:only-of-type {\n",
              "        vertical-align: middle;\n",
              "    }\n",
              "\n",
              "    .dataframe tbody tr th {\n",
              "        vertical-align: top;\n",
              "    }\n",
              "\n",
              "    .dataframe thead th {\n",
              "        text-align: right;\n",
              "    }\n",
              "</style>\n",
              "<table border=\"1\" class=\"dataframe\">\n",
              "  <thead>\n",
              "    <tr style=\"text-align: right;\">\n",
              "      <th></th>\n",
              "      <th>image_path</th>\n",
              "      <th>emotion</th>\n",
              "    </tr>\n",
              "  </thead>\n",
              "  <tbody>\n",
              "    <tr>\n",
              "      <th>4031</th>\n",
              "      <td>1025.jpg</td>\n",
              "      <td>fear</td>\n",
              "    </tr>\n",
              "    <tr>\n",
              "      <th>3846</th>\n",
              "      <td>266.jpg</td>\n",
              "      <td>sad</td>\n",
              "    </tr>\n",
              "    <tr>\n",
              "      <th>619</th>\n",
              "      <td>656.jpg</td>\n",
              "      <td>fear</td>\n",
              "    </tr>\n",
              "    <tr>\n",
              "      <th>4688</th>\n",
              "      <td>1617.jpg</td>\n",
              "      <td>fear</td>\n",
              "    </tr>\n",
              "    <tr>\n",
              "      <th>1903</th>\n",
              "      <td>4510.jpg</td>\n",
              "      <td>neutral</td>\n",
              "    </tr>\n",
              "  </tbody>\n",
              "</table>\n",
              "</div>"
            ],
            "text/plain": [
              "     image_path  emotion\n",
              "4031   1025.jpg     fear\n",
              "3846    266.jpg      sad\n",
              "619     656.jpg     fear\n",
              "4688   1617.jpg     fear\n",
              "1903   4510.jpg  neutral"
            ]
          },
          "metadata": {},
          "execution_count": 30
        }
      ]
    },
    {
      "cell_type": "code",
      "metadata": {
        "id": "Bwyebz0QBp2p"
      },
      "source": [
        "#выгружаем датасет в csv для отправки на платформу kaggle\n",
        "results_frame.to_csv('/content/drive/MyDrive/SKILLBOX/Machine_learning/Нейросети/Диплом/senet50_submission.csv',index=False)"
      ],
      "execution_count": null,
      "outputs": []
    },
    {
      "cell_type": "code",
      "metadata": {
        "id": "cJD1ezLMnzfR"
      },
      "source": [
        "!cd /content/drive/MyDrive/SKILLBOX/Machine_learning/Нейросети/Диплом/\n",
        "!cp /content/drive/MyDrive/SKILLBOX/Machine_learning/Нейросети/Диплом/senet50_submission.csv /content/senet50_submission.csv"
      ],
      "execution_count": null,
      "outputs": []
    },
    {
      "cell_type": "code",
      "metadata": {
        "id": "SfW6LXGKBq2U",
        "colab": {
          "base_uri": "https://localhost:8080/"
        },
        "outputId": "adc02b19-fdc2-4298-8068-83f63fff5431"
      },
      "source": [
        "#Отправляем результат. Будут ошибки кодировки, но все нормально отправляется :)\n",
        "!cd /content/\n",
        "!kaggle competitions submit -c skillbox-computer-vision-project -f senet50_submission.csv -m \"Yet another attempt. vggface, senet50, with augmentation\""
      ],
      "execution_count": null,
      "outputs": [
        {
          "output_type": "stream",
          "name": "stdout",
          "text": [
            "Warning: Looks like you're using an outdated API Version, please consider updating (server 1.5.12 / client 1.5.4)\n",
            "100% 74.6k/74.6k [00:08<00:00, 9.11kB/s]\n",
            "Traceback (most recent call last):\n",
            "  File \"/usr/local/bin/kaggle\", line 8, in <module>\n",
            "    sys.exit(main())\n",
            "  File \"/usr/local/lib/python2.7/dist-packages/kaggle/cli.py\", line 64, in main\n",
            "    print(out, end='')\n",
            "UnicodeEncodeError: 'latin-1' codec can't encode characters in position 36-44: ordinal not in range(256)\n"
          ]
        }
      ]
    },
    {
      "cell_type": "markdown",
      "metadata": {
        "id": "zYXaPy9molBS"
      },
      "source": [
        "![image.png](data:image/png;base64,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)"
      ]
    },
    {
      "cell_type": "markdown",
      "metadata": {
        "id": "VTbs3x3XMRfQ"
      },
      "source": [
        "На приватной части лидерборда первая модель показала лучший результат. Будем использовать ее."
      ]
    }
  ]
}